{
 "cells": [
  {
   "cell_type": "code",
   "execution_count": 1,
   "id": "bd09fb8b",
   "metadata": {},
   "outputs": [],
   "source": [
    "import pandas as pd\n",
    "from preprocessing import merge_data\n",
    "from hybrid import hybrid_recommendation_system"
   ]
  },
  {
   "cell_type": "code",
   "execution_count": 2,
   "id": "b73a1098",
   "metadata": {},
   "outputs": [],
   "source": [
    "file1_path = \"data/product_info.csv\"\n",
    "file2_path = \"data/reviews_0-250.csv\"\n",
    "on_column = \"product_id\""
   ]
  },
  {
   "cell_type": "code",
   "execution_count": 3,
   "id": "b151906e",
   "metadata": {},
   "outputs": [],
   "source": [
    "preprocessed_df = merge_data(file1_path, file2_path, on_column)"
   ]
  },
  {
   "cell_type": "code",
   "execution_count": 4,
   "id": "d424f50d",
   "metadata": {},
   "outputs": [
    {
     "name": "stdout",
     "output_type": "stream",
     "text": [
      "Enter your skin type (e.g., combination, oily, dry): dry\n"
     ]
    }
   ],
   "source": [
    "user_skin_type = input(\"Enter your skin type (e.g., combination, oily, dry): \")\n",
    "preprocessed_df = preprocessed_df.sample(10000)"
   ]
  },
  {
   "cell_type": "code",
   "execution_count": 5,
   "id": "ba115d16",
   "metadata": {},
   "outputs": [
    {
     "name": "stdout",
     "output_type": "stream",
     "text": [
      "['All About Eyes Eye Cream', 'Hydra Zen Gel-Cream Oil-Free Moisturizer with Salicylic Acid', 'Mini Deep Cleanse Gentle Exfoliating Cleanser', 'Jet Lag Mask', 'Mini Anti-Aging Cleansing Gel']\n"
     ]
    },
    {
     "name": "stderr",
     "output_type": "stream",
     "text": [
      "/Users/ruthabebe/Desktop/Projects/skin-care/sentiment_analysis.py:11: SettingWithCopyWarning: \n",
      "A value is trying to be set on a copy of a slice from a DataFrame.\n",
      "Try using .loc[row_indexer,col_indexer] = value instead\n",
      "\n",
      "See the caveats in the documentation: https://pandas.pydata.org/pandas-docs/stable/user_guide/indexing.html#returning-a-view-versus-a-copy\n",
      "  filtered_df.loc[:, 'sentiment'] = filtered_df['review_text'].apply(analyze_sentiment)\n"
     ]
    }
   ],
   "source": [
    "recommendations = hybrid_recommendation_system(preprocessed_df, user_skin_type)\n",
    "print(recommendations)"
   ]
  }
 ],
 "metadata": {
  "kernelspec": {
   "display_name": "Python 3 (ipykernel)",
   "language": "python",
   "name": "python3"
  },
  "language_info": {
   "codemirror_mode": {
    "name": "ipython",
    "version": 3
   },
   "file_extension": ".py",
   "mimetype": "text/x-python",
   "name": "python",
   "nbconvert_exporter": "python",
   "pygments_lexer": "ipython3",
   "version": "3.11.5"
  }
 },
 "nbformat": 4,
 "nbformat_minor": 5
}
